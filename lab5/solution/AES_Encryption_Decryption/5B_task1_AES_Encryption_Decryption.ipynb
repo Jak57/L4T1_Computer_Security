{
 "cells": [
  {
   "cell_type": "markdown",
   "metadata": {},
   "source": [
    "# AES Encryption and Decryption\n"
   ]
  },
  {
   "cell_type": "markdown",
   "metadata": {},
   "source": [
    "# Reading Plaintext"
   ]
  },
  {
   "cell_type": "code",
   "execution_count": 2,
   "metadata": {},
   "outputs": [
    {
     "name": "stdout",
     "output_type": "stream",
     "text": [
      "Plaintext_length: 455\n",
      "b'\\xef\\xbb\\xbfOur concept of time begins with the creation of the universe.\\nTherefore if the laws of nature created the universe, these laws must have existed prior to time; that is the laws of nature would be outside of time.\\nWhat we have then is totally non-physical laws, outside of time, creating a universe. Now that description might sound somewhat familiar.\\nVery much like the biblical concept of God: not physical, outside of time, able to create a universe.'\n"
     ]
    }
   ],
   "source": [
    "filename = \"text.txt\"\n",
    "with open(filename, 'rb') as file:\n",
    "    plaintext = file.read()\n",
    "    plaintext_length = len(plaintext)\n",
    "print(\"Plaintext_length:\", plaintext_length)\n",
    "print(plaintext)"
   ]
  },
  {
   "cell_type": "markdown",
   "metadata": {},
   "source": [
    "# Generating Key"
   ]
  },
  {
   "cell_type": "code",
   "execution_count": 6,
   "metadata": {},
   "outputs": [
    {
     "name": "stdout",
     "output_type": "stream",
     "text": [
      "32 <class 'bytes'>\n",
      "\n",
      "Key:\n",
      " b'n\\xaa\\xb1\\x196>\\x16\\x7f\\xca\\x0b\\x80\\xc4[\\xfe\\xb7o\\xfd\\x9d\\x85\\x19?\\x0c\\x81\\x1c!\\x84\\xb8P\\x14\"\\xd3W'\n"
     ]
    }
   ],
   "source": [
    "from Crypto.Random import get_random_bytes\n",
    "\n",
    "key_length = 256\n",
    "key = get_random_bytes(key_length // 8)\n",
    "print(len(key), type(key))\n",
    "print(\"\\nKey:\\n\", key)"
   ]
  },
  {
   "cell_type": "markdown",
   "metadata": {},
   "source": [
    "# Padding Plaintext"
   ]
  },
  {
   "cell_type": "code",
   "execution_count": 8,
   "metadata": {},
   "outputs": [
    {
     "data": {
      "text/plain": [
       "16"
      ]
     },
     "execution_count": 8,
     "metadata": {},
     "output_type": "execute_result"
    }
   ],
   "source": [
    "from Crypto.Cipher import AES\n",
    "\n",
    "block_size = AES.block_size\n",
    "block_size"
   ]
  },
  {
   "cell_type": "code",
   "execution_count": 9,
   "metadata": {},
   "outputs": [
    {
     "data": {
      "text/plain": [
       "7"
      ]
     },
     "execution_count": 9,
     "metadata": {},
     "output_type": "execute_result"
    }
   ],
   "source": [
    "plaintext_length%block_size"
   ]
  },
  {
   "cell_type": "code",
   "execution_count": 11,
   "metadata": {},
   "outputs": [
    {
     "data": {
      "text/plain": [
       "28"
      ]
     },
     "execution_count": 11,
     "metadata": {},
     "output_type": "execute_result"
    }
   ],
   "source": [
    "n = plaintext_length//block_size\n",
    "n"
   ]
  },
  {
   "cell_type": "code",
   "execution_count": 12,
   "metadata": {},
   "outputs": [
    {
     "data": {
      "text/plain": [
       "9"
      ]
     },
     "execution_count": 12,
     "metadata": {},
     "output_type": "execute_result"
    }
   ],
   "source": [
    "padding_length = ((n+1) * block_size) - plaintext_length\n",
    "padding_length"
   ]
  },
  {
   "cell_type": "markdown",
   "metadata": {},
   "source": [
    "# Generate bytes for padding"
   ]
  },
  {
   "cell_type": "code",
   "execution_count": 13,
   "metadata": {},
   "outputs": [
    {
     "data": {
      "text/plain": [
       "[9, 9, 9, 9, 9, 9, 9, 9, 9]"
      ]
     },
     "execution_count": 13,
     "metadata": {},
     "output_type": "execute_result"
    }
   ],
   "source": [
    "padding = [padding_length] * padding_length\n",
    "padding"
   ]
  },
  {
   "cell_type": "code",
   "execution_count": 14,
   "metadata": {},
   "outputs": [],
   "source": [
    "padding = bytes(padding)"
   ]
  },
  {
   "cell_type": "code",
   "execution_count": 15,
   "metadata": {},
   "outputs": [
    {
     "data": {
      "text/plain": [
       "b'\\t\\t\\t\\t\\t\\t\\t\\t\\t'"
      ]
     },
     "execution_count": 15,
     "metadata": {},
     "output_type": "execute_result"
    }
   ],
   "source": [
    "padding"
   ]
  },
  {
   "cell_type": "code",
   "execution_count": 16,
   "metadata": {},
   "outputs": [
    {
     "data": {
      "text/plain": [
       "b'\\xef\\xbb\\xbfOur concept of time begins with the creation of the universe.\\nTherefore if the laws of nature created the universe, these laws must have existed prior to time; that is the laws of nature would be outside of time.\\nWhat we have then is totally non-physical laws, outside of time, creating a universe. Now that description might sound somewhat familiar.\\nVery much like the biblical concept of God: not physical, outside of time, able to create a universe.\\t\\t\\t\\t\\t\\t\\t\\t\\t'"
      ]
     },
     "execution_count": 16,
     "metadata": {},
     "output_type": "execute_result"
    }
   ],
   "source": [
    "padded_plaintext = plaintext + padding\n",
    "padded_plaintext"
   ]
  },
  {
   "cell_type": "code",
   "execution_count": 17,
   "metadata": {},
   "outputs": [
    {
     "data": {
      "text/plain": [
       "464"
      ]
     },
     "execution_count": 17,
     "metadata": {},
     "output_type": "execute_result"
    }
   ],
   "source": [
    "len(padded_plaintext)"
   ]
  },
  {
   "cell_type": "markdown",
   "metadata": {},
   "source": [
    "# AES Encryption"
   ]
  },
  {
   "cell_type": "code",
   "execution_count": 18,
   "metadata": {},
   "outputs": [
    {
     "data": {
      "text/plain": [
       "b'aM\\r)<\\x01\\xc0\\x89\\xd3\\xd2\\xb4\\xe6\\x15N\\xa5j\\x91\\x0f_lS\\x97\\x8cf\\xca\\xbb\\xe4Y\\x8e\\xbf\\xa4H?\\xb9\\xcbj\\n|\\x11\\xb30)RU\\xa8\\x10\\xcb\\x05\\x0e>\\x10\\x9e\\x1e\\x9c/a\\x88\\xec\\xd3\\tL\\x8f\\xc8\\xa1\\xa8\\xdc\\xc0-\\xb4\\xf6[\\xd0!yu\\x1f\\xe8\\xa1\\x8eh\\xe3\\x13\\xeb\\x88ol\\x0e\\xb8\\x04O\\xf0]\\xa07\\x99e/$R\\xdd82a\\xd3\\xe4\\xd6\\x16\\x16`*o}\\xb6\\xcc\\xafC\\x88\\xecd\\x8e\\x9eB\\xd3\\xee\\xb4\\x1f\\x06#\\xeb?$\\xa9\\x18w\\x04\\x19e\\\\\\x08.\\x0b\\xf47A\\xd5\\xa6\\x06[\\xd9\\x13\\xc4\\xf2U\\x99\\xda\\x16\\x86\\t\\xe7\\xd4\\xb1\\x85\\xf3\\xd8\\xf9/p\\x0c\\xb1S\\xc6q\\x05\\x9cb\\xd2w\\x01\\x1cB\\xc1N\\x82\\t\\x08\\xd0*\\x19\\xe2e$\\xceq8\\x91\\xe9Q{\\xb2\\x117Wh\\xd0\\xa7\\xe8\\xefv\\xf0\\x17E\\x11j+_k\\x0c\\x03\\xec\\x18\\xe0Ac\\xac;c\\xecY\\xf7\\xe5\\xbd\\x91\\x0e\\xe8p\\xf5\\xdc9\\xb4lh\\xb2\\x93\\x85 \\x0b\\xc4\\xad\\x0cX\\t\\xfa\\x18|2\\xcd\\x84\\xd82\\x10A$,\\xd1@u\\xc9\\x0eLjh\\x00{\\xc6\\x14\\xb6\\x05eg+Vl\\x87M\\\\<O|/$O\\xae\\xa4\\xc4J\\xe8\\xac\\xb0\\x02^\\x19V\\x9fv\\x8e\\xc5iUv\\x9b\\xdf\\x86 \\x88\\x1c\\x03\\x17wb\\x1d\\x0enF.D\\xbfu\\xbc\\xc00\\xf7F\\xfa$\\xaed\\xf2o,L\\xb8,\\xb3\\x0f\\xee\\x88nB|\\x94\\xe3V\\xd7\\xce\\x17v\\xa5\\x90\\xf7\\xa4\\x10_\\x8b\\x9cQ\\xf6\\x9e]\\xe1\\x0cZ\\x02\\xfd\\x1b\\xb0\\xac\\xbb=\\xfb\\xec\\x07\\xfeg\\xe7M6\\xf3X\\r\\xa7\\x88\\x99PJ\\xcb~\\xc9\\x02\\xe0\\x0e\\xbe`z\\xc83\\xd5\\xe68Z\\xf4OYHp\\xc9\\xcd\\xd5A\\x89wo\\xb1\\xf12\\xc4\\xc3\\xa0\\x89A\\x9b\\xb9\\xb4_\\xa9\\xb2\\xaf\\xe7+\\xb1\\xa0HQ\\xaaZ\\xa2p\\xce&\\xa7h\\x10\\xb3\\\\\\r+\\xe0\\xb9\\tI\\x1c\\xc1\\x12\\xa3\\x12'"
      ]
     },
     "execution_count": 18,
     "metadata": {},
     "output_type": "execute_result"
    }
   ],
   "source": [
    "cipher = AES.new(key, AES.MODE_ECB)\n",
    "aes_cipher = cipher.encrypt(padded_plaintext)\n",
    "aes_cipher"
   ]
  },
  {
   "cell_type": "markdown",
   "metadata": {},
   "source": [
    "# AES Decrypt"
   ]
  },
  {
   "cell_type": "code",
   "execution_count": 19,
   "metadata": {},
   "outputs": [
    {
     "data": {
      "text/plain": [
       "b'\\xef\\xbb\\xbfOur concept of time begins with the creation of the universe.\\nTherefore if the laws of nature created the universe, these laws must have existed prior to time; that is the laws of nature would be outside of time.\\nWhat we have then is totally non-physical laws, outside of time, creating a universe. Now that description might sound somewhat familiar.\\nVery much like the biblical concept of God: not physical, outside of time, able to create a universe.\\t\\t\\t\\t\\t\\t\\t\\t\\t'"
      ]
     },
     "execution_count": 19,
     "metadata": {},
     "output_type": "execute_result"
    }
   ],
   "source": [
    "cipher = AES.new(key, AES.MODE_ECB)\n",
    "plain = cipher.decrypt(aes_cipher)\n",
    "plain"
   ]
  },
  {
   "cell_type": "code",
   "execution_count": 20,
   "metadata": {},
   "outputs": [
    {
     "data": {
      "text/plain": [
       "b'\\xef\\xbb\\xbfOur concept of time begins with the creation of the universe.\\nTherefore if the laws of nature created the universe, these laws must have existed prior to time; that is the laws of nature would be outside of time.\\nWhat we have then is totally non-physical laws, outside of time, creating a universe. Now that description might sound somewhat familiar.\\nVery much like the biblical concept of God: not physical, outside of time, able to create a universe.'"
      ]
     },
     "execution_count": 20,
     "metadata": {},
     "output_type": "execute_result"
    }
   ],
   "source": [
    "plain[:-9]"
   ]
  },
  {
   "cell_type": "code",
   "execution_count": null,
   "metadata": {},
   "outputs": [],
   "source": []
  }
 ],
 "metadata": {
  "kernelspec": {
   "display_name": "Python 3",
   "language": "python",
   "name": "python3"
  },
  "language_info": {
   "codemirror_mode": {
    "name": "ipython",
    "version": 3
   },
   "file_extension": ".py",
   "mimetype": "text/x-python",
   "name": "python",
   "nbconvert_exporter": "python",
   "pygments_lexer": "ipython3",
   "version": "3.8.5"
  }
 },
 "nbformat": 4,
 "nbformat_minor": 4
}
