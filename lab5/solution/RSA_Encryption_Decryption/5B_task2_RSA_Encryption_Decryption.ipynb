{
 "cells": [
  {
   "cell_type": "markdown",
   "metadata": {},
   "source": [
    "# RSA Encryption and Decryption\n",
    "\n",
    "https://cryptobook.nakov.com/asymmetric-key-ciphers/rsa-encrypt-decrypt-examples"
   ]
  },
  {
   "cell_type": "code",
   "execution_count": 1,
   "metadata": {},
   "outputs": [],
   "source": [
    "from Crypto.PublicKey import RSA"
   ]
  },
  {
   "cell_type": "code",
   "execution_count": 2,
   "metadata": {},
   "outputs": [],
   "source": [
    "keyPair = RSA.generate(1024)"
   ]
  },
  {
   "cell_type": "code",
   "execution_count": 3,
   "metadata": {},
   "outputs": [
    {
     "data": {
      "text/plain": [
       "RsaKey(n=137153727081657641075273863894303916492559470103817665369484760039909734129617095618124579523529367949597145773277254842090081490551273049037896206955002957880656451468271964413570171977111093477582008618354417392301905943739359810730981809256915290138885777530488590103487147112558458536865753185951221448727, e=65537, d=55993050413251919004371421722447601167533986944210042354597395322456091848955097148339597287666356473067830900665571996391979726268284878214343530603850969877886540647795421801143174398477632976441847926881286364825546305805316223729076777418368669348079542741773155077284591467835956367818090450547397837497, p=11654666705317212823012699074334351617587931114575191954288665149496699979193893609648451822936181206597452007785926628426872883744549720222689220747901903, q=11768138081467739130241239611759369943555100263795773370599606862472209420072107036164031807329081855929058406902949073768695970986810389566532030699217209, u=7632642131524340484998093556027181699664603530031551737397995489853721059076113572594902681798328098928887998413654291810488584650482193977865938632307339)"
      ]
     },
     "execution_count": 3,
     "metadata": {},
     "output_type": "execute_result"
    }
   ],
   "source": [
    "keyPair"
   ]
  },
  {
   "cell_type": "code",
   "execution_count": 6,
   "metadata": {},
   "outputs": [
    {
     "name": "stdout",
     "output_type": "stream",
     "text": [
      "Help on RsaKey in module Crypto.PublicKey.RSA object:\n",
      "\n",
      "class RsaKey(builtins.object)\n",
      " |  RsaKey(**kwargs)\n",
      " |  \n",
      " |  Class defining an actual RSA key.\n",
      " |  Do not instantiate directly.\n",
      " |  Use :func:`generate`, :func:`construct` or :func:`import_key` instead.\n",
      " |  \n",
      " |  :ivar n: RSA modulus\n",
      " |  :vartype n: integer\n",
      " |  \n",
      " |  :ivar e: RSA public exponent\n",
      " |  :vartype e: integer\n",
      " |  \n",
      " |  :ivar d: RSA private exponent\n",
      " |  :vartype d: integer\n",
      " |  \n",
      " |  :ivar p: First factor of the RSA modulus\n",
      " |  :vartype p: integer\n",
      " |  \n",
      " |  :ivar q: Second factor of the RSA modulus\n",
      " |  :vartype q: integer\n",
      " |  \n",
      " |  :ivar invp: Chinese remainder component (:math:`p^{-1} \\text{mod } q`)\n",
      " |  :vartype invp: integer\n",
      " |  \n",
      " |  :ivar invq: Chinese remainder component (:math:`q^{-1} \\text{mod } p`)\n",
      " |  :vartype invq: integer\n",
      " |  \n",
      " |  :ivar u: Same as ``invp``\n",
      " |  :vartype u: integer\n",
      " |  \n",
      " |  :undocumented: exportKey, publickey\n",
      " |  \n",
      " |  Methods defined here:\n",
      " |  \n",
      " |  __eq__(self, other)\n",
      " |      Return self==value.\n",
      " |  \n",
      " |  __getstate__(self)\n",
      " |  \n",
      " |  __init__(self, **kwargs)\n",
      " |      Build an RSA key.\n",
      " |      \n",
      " |      :Keywords:\n",
      " |        n : integer\n",
      " |          The modulus.\n",
      " |        e : integer\n",
      " |          The public exponent.\n",
      " |        d : integer\n",
      " |          The private exponent. Only required for private keys.\n",
      " |        p : integer\n",
      " |          The first factor of the modulus. Only required for private keys.\n",
      " |        q : integer\n",
      " |          The second factor of the modulus. Only required for private keys.\n",
      " |        u : integer\n",
      " |          The CRT coefficient (inverse of p modulo q). Only required for\n",
      " |          private keys.\n",
      " |  \n",
      " |  __ne__(self, other)\n",
      " |      Return self!=value.\n",
      " |  \n",
      " |  __repr__(self)\n",
      " |      Return repr(self).\n",
      " |  \n",
      " |  __str__(self)\n",
      " |      Return str(self).\n",
      " |  \n",
      " |  blind(self, M, B)\n",
      " |  \n",
      " |  can_encrypt(self)\n",
      " |  \n",
      " |  can_sign(self)\n",
      " |  \n",
      " |  decrypt(self, ciphertext)\n",
      " |  \n",
      " |  encrypt(self, plaintext, K)\n",
      " |  \n",
      " |  exportKey = export_key(self, format='PEM', passphrase=None, pkcs=1, protection=None, randfunc=None)\n",
      " |  \n",
      " |  export_key(self, format='PEM', passphrase=None, pkcs=1, protection=None, randfunc=None)\n",
      " |      Export this RSA key.\n",
      " |      \n",
      " |      Args:\n",
      " |        format (string):\n",
      " |          The format to use for wrapping the key:\n",
      " |      \n",
      " |          - *'PEM'*. (*Default*) Text encoding, done according to `RFC1421`_/`RFC1423`_.\n",
      " |          - *'DER'*. Binary encoding.\n",
      " |          - *'OpenSSH'*. Textual encoding, done according to OpenSSH specification.\n",
      " |            Only suitable for public keys (not private keys).\n",
      " |      \n",
      " |        passphrase (string):\n",
      " |          (*For private keys only*) The pass phrase used for protecting the output.\n",
      " |      \n",
      " |        pkcs (integer):\n",
      " |          (*For private keys only*) The ASN.1 structure to use for\n",
      " |          serializing the key. Note that even in case of PEM\n",
      " |          encoding, there is an inner ASN.1 DER structure.\n",
      " |      \n",
      " |          With ``pkcs=1`` (*default*), the private key is encoded in a\n",
      " |          simple `PKCS#1`_ structure (``RSAPrivateKey``).\n",
      " |      \n",
      " |          With ``pkcs=8``, the private key is encoded in a `PKCS#8`_ structure\n",
      " |          (``PrivateKeyInfo``).\n",
      " |      \n",
      " |          .. note::\n",
      " |              This parameter is ignored for a public key.\n",
      " |              For DER and PEM, an ASN.1 DER ``SubjectPublicKeyInfo``\n",
      " |              structure is always used.\n",
      " |      \n",
      " |        protection (string):\n",
      " |          (*For private keys only*)\n",
      " |          The encryption scheme to use for protecting the private key.\n",
      " |      \n",
      " |          If ``None`` (default), the behavior depends on :attr:`format`:\n",
      " |      \n",
      " |          - For *'DER'*, the *PBKDF2WithHMAC-SHA1AndDES-EDE3-CBC*\n",
      " |            scheme is used. The following operations are performed:\n",
      " |      \n",
      " |              1. A 16 byte Triple DES key is derived from the passphrase\n",
      " |                 using :func:`Crypto.Protocol.KDF.PBKDF2` with 8 bytes salt,\n",
      " |                 and 1 000 iterations of :mod:`Crypto.Hash.HMAC`.\n",
      " |              2. The private key is encrypted using CBC.\n",
      " |              3. The encrypted key is encoded according to PKCS#8.\n",
      " |      \n",
      " |          - For *'PEM'*, the obsolete PEM encryption scheme is used.\n",
      " |            It is based on MD5 for key derivation, and Triple DES for encryption.\n",
      " |      \n",
      " |          Specifying a value for :attr:`protection` is only meaningful for PKCS#8\n",
      " |          (that is, ``pkcs=8``) and only if a pass phrase is present too.\n",
      " |      \n",
      " |          The supported schemes for PKCS#8 are listed in the\n",
      " |          :mod:`Crypto.IO.PKCS8` module (see :attr:`wrap_algo` parameter).\n",
      " |      \n",
      " |        randfunc (callable):\n",
      " |          A function that provides random bytes. Only used for PEM encoding.\n",
      " |          The default is :func:`Crypto.Random.get_random_bytes`.\n",
      " |      \n",
      " |      Returns:\n",
      " |        byte string: the encoded key\n",
      " |      \n",
      " |      Raises:\n",
      " |        ValueError:when the format is unknown or when you try to encrypt a private\n",
      " |          key with *DER* format and PKCS#1.\n",
      " |      \n",
      " |      .. warning::\n",
      " |          If you don't provide a pass phrase, the private key will be\n",
      " |          exported in the clear!\n",
      " |      \n",
      " |      .. _RFC1421:    http://www.ietf.org/rfc/rfc1421.txt\n",
      " |      .. _RFC1423:    http://www.ietf.org/rfc/rfc1423.txt\n",
      " |      .. _`PKCS#1`:   http://www.ietf.org/rfc/rfc3447.txt\n",
      " |      .. _`PKCS#8`:   http://www.ietf.org/rfc/rfc5208.txt\n",
      " |  \n",
      " |  has_private(self)\n",
      " |      Whether this is an RSA private key\n",
      " |  \n",
      " |  public_key(self)\n",
      " |      A matching RSA public key.\n",
      " |      \n",
      " |      Returns:\n",
      " |          a new :class:`RsaKey` object\n",
      " |  \n",
      " |  publickey = public_key(self)\n",
      " |  \n",
      " |  sign(self, M, K)\n",
      " |      # Methods defined in PyCrypto that we don't support anymore\n",
      " |  \n",
      " |  size(self)\n",
      " |  \n",
      " |  size_in_bits(self)\n",
      " |      Size of the RSA modulus in bits\n",
      " |  \n",
      " |  size_in_bytes(self)\n",
      " |      The minimal amount of bytes that can hold the RSA modulus\n",
      " |  \n",
      " |  unblind(self, M, B)\n",
      " |  \n",
      " |  verify(self, M, signature)\n",
      " |  \n",
      " |  ----------------------------------------------------------------------\n",
      " |  Readonly properties defined here:\n",
      " |  \n",
      " |  d\n",
      " |  \n",
      " |  dp\n",
      " |  \n",
      " |  dq\n",
      " |  \n",
      " |  e\n",
      " |  \n",
      " |  invp\n",
      " |  \n",
      " |  invq\n",
      " |  \n",
      " |  n\n",
      " |  \n",
      " |  p\n",
      " |  \n",
      " |  q\n",
      " |  \n",
      " |  u\n",
      " |  \n",
      " |  ----------------------------------------------------------------------\n",
      " |  Data descriptors defined here:\n",
      " |  \n",
      " |  __dict__\n",
      " |      dictionary for instance variables (if defined)\n",
      " |  \n",
      " |  __weakref__\n",
      " |      list of weak references to the object (if defined)\n",
      " |  \n",
      " |  ----------------------------------------------------------------------\n",
      " |  Data and other attributes defined here:\n",
      " |  \n",
      " |  __hash__ = None\n",
      "\n"
     ]
    }
   ],
   "source": [
    "help(keyPair)"
   ]
  },
  {
   "cell_type": "code",
   "execution_count": 7,
   "metadata": {},
   "outputs": [
    {
     "data": {
      "text/plain": [
       "RsaKey(n=137153727081657641075273863894303916492559470103817665369484760039909734129617095618124579523529367949597145773277254842090081490551273049037896206955002957880656451468271964413570171977111093477582008618354417392301905943739359810730981809256915290138885777530488590103487147112558458536865753185951221448727, e=65537)"
      ]
     },
     "execution_count": 7,
     "metadata": {},
     "output_type": "execute_result"
    }
   ],
   "source": [
    "pubKey = keyPair.publickey()\n",
    "pubKey"
   ]
  },
  {
   "cell_type": "markdown",
   "metadata": {},
   "source": [
    "# RSA Encryption"
   ]
  },
  {
   "cell_type": "code",
   "execution_count": 17,
   "metadata": {},
   "outputs": [
    {
     "data": {
      "text/plain": [
       "b'=\\xf5T\\xb9\\xaa\\x97\\xd4[X+K\\xa7eB\\xc6&\\xce\\xd88r\\x94~\\xc1<,%dm\\xec\\xe7U\\xcc\\xd4\\xb5\\x16VL\\xad`f\\x9a\\xe6\\xba\\x02\\x85l\\x1bg\\xa8j\\xeck$(sz\\xd11\\xbb5\\x93\\x1c\\x1ab\\x8ed*\\xd7\\x8d\\x90\"\\x08\\x11YaT\\xa1\\xe1=\\xd1h\\xfa\\xe0\\xedb\\xb6\\x06h,W\\xa5\\x85|\\x08\\xa5\\xedM\\xa7Z\\xc8\\x16\\xa9\\xf2\\x0b\\xb3\\xb4\\x1bo\\xa1t\\x1d\\xf8\\xa2\\xa9cU!\\x90\\xa3\\x83\\xb1\\xa5Tw\\x9c \\xe8\\n'"
      ]
     },
     "execution_count": 17,
     "metadata": {},
     "output_type": "execute_result"
    }
   ],
   "source": [
    "from Crypto.Cipher import PKCS1_OAEP\n",
    "\n",
    "msg = b'A simple message for encryption'\n",
    "\n",
    "encryptor = PKCS1_OAEP.new(pubKey)\n",
    "encrypted = encryptor.encrypt(msg)\n",
    "encrypted"
   ]
  },
  {
   "cell_type": "code",
   "execution_count": 18,
   "metadata": {},
   "outputs": [],
   "source": [
    "#help(Crypto.Cipher)"
   ]
  },
  {
   "cell_type": "code",
   "execution_count": 20,
   "metadata": {},
   "outputs": [
    {
     "data": {
      "text/plain": [
       "b'A simple message for encryption'"
      ]
     },
     "execution_count": 20,
     "metadata": {},
     "output_type": "execute_result"
    }
   ],
   "source": [
    "decryptor = PKCS1_OAEP.new(keyPair)\n",
    "decrypted = decryptor.decrypt(encrypted)\n",
    "decrypted"
   ]
  },
  {
   "cell_type": "code",
   "execution_count": null,
   "metadata": {},
   "outputs": [],
   "source": []
  }
 ],
 "metadata": {
  "kernelspec": {
   "display_name": "Python 3",
   "language": "python",
   "name": "python3"
  },
  "language_info": {
   "codemirror_mode": {
    "name": "ipython",
    "version": 3
   },
   "file_extension": ".py",
   "mimetype": "text/x-python",
   "name": "python",
   "nbconvert_exporter": "python",
   "pygments_lexer": "ipython3",
   "version": "3.8.5"
  }
 },
 "nbformat": 4,
 "nbformat_minor": 4
}
